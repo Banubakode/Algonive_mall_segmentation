{
 "cells": [
  {
   "cell_type": "markdown",
   "id": "4f4510ae-dc63-4c4f-a14a-e4f32d9a5894",
   "metadata": {},
   "source": [
    "## 📚 Import the library"
   ]
  },
  {
   "cell_type": "code",
   "execution_count": 1,
   "id": "506f23c9-adfa-4d59-a5ea-51248c593ca7",
   "metadata": {},
   "outputs": [],
   "source": [
    "import pandas as pd"
   ]
  },
  {
   "cell_type": "markdown",
   "id": "4fd80740-b485-4500-a0f1-a6d0f86a4aab",
   "metadata": {},
   "source": [
    "## 🔄📊 Load dataset"
   ]
  },
  {
   "cell_type": "code",
   "execution_count": 2,
   "id": "f0027c0c-bbcb-461a-8b00-111b1689c65c",
   "metadata": {},
   "outputs": [],
   "source": [
    "df = pd.read_csv(\"Mall_Customers.csv\")"
   ]
  },
  {
   "cell_type": "markdown",
   "id": "968358cf-7db0-4435-a5f9-e363b788f146",
   "metadata": {},
   "source": [
    "## 📊⚙️ Show first few rows"
   ]
  },
  {
   "cell_type": "code",
   "execution_count": 3,
   "id": "f95e357d-1b4c-46b6-8ef8-d001a7f85c93",
   "metadata": {},
   "outputs": [
    {
     "data": {
      "text/html": [
       "<div>\n",
       "<style scoped>\n",
       "    .dataframe tbody tr th:only-of-type {\n",
       "        vertical-align: middle;\n",
       "    }\n",
       "\n",
       "    .dataframe tbody tr th {\n",
       "        vertical-align: top;\n",
       "    }\n",
       "\n",
       "    .dataframe thead th {\n",
       "        text-align: right;\n",
       "    }\n",
       "</style>\n",
       "<table border=\"1\" class=\"dataframe\">\n",
       "  <thead>\n",
       "    <tr style=\"text-align: right;\">\n",
       "      <th></th>\n",
       "      <th>CustomerID</th>\n",
       "      <th>Gender</th>\n",
       "      <th>Age</th>\n",
       "      <th>Annual Income (k$)</th>\n",
       "      <th>Spending Score (1-100)</th>\n",
       "    </tr>\n",
       "  </thead>\n",
       "  <tbody>\n",
       "    <tr>\n",
       "      <th>0</th>\n",
       "      <td>1</td>\n",
       "      <td>Male</td>\n",
       "      <td>19</td>\n",
       "      <td>15</td>\n",
       "      <td>39</td>\n",
       "    </tr>\n",
       "    <tr>\n",
       "      <th>1</th>\n",
       "      <td>2</td>\n",
       "      <td>Male</td>\n",
       "      <td>21</td>\n",
       "      <td>15</td>\n",
       "      <td>81</td>\n",
       "    </tr>\n",
       "    <tr>\n",
       "      <th>2</th>\n",
       "      <td>3</td>\n",
       "      <td>Female</td>\n",
       "      <td>20</td>\n",
       "      <td>16</td>\n",
       "      <td>6</td>\n",
       "    </tr>\n",
       "    <tr>\n",
       "      <th>3</th>\n",
       "      <td>4</td>\n",
       "      <td>Female</td>\n",
       "      <td>23</td>\n",
       "      <td>16</td>\n",
       "      <td>77</td>\n",
       "    </tr>\n",
       "    <tr>\n",
       "      <th>4</th>\n",
       "      <td>5</td>\n",
       "      <td>Female</td>\n",
       "      <td>31</td>\n",
       "      <td>17</td>\n",
       "      <td>40</td>\n",
       "    </tr>\n",
       "  </tbody>\n",
       "</table>\n",
       "</div>"
      ],
      "text/plain": [
       "   CustomerID  Gender  Age  Annual Income (k$)  Spending Score (1-100)\n",
       "0           1    Male   19                  15                      39\n",
       "1           2    Male   21                  15                      81\n",
       "2           3  Female   20                  16                       6\n",
       "3           4  Female   23                  16                      77\n",
       "4           5  Female   31                  17                      40"
      ]
     },
     "execution_count": 3,
     "metadata": {},
     "output_type": "execute_result"
    }
   ],
   "source": [
    "df.head()"
   ]
  },
  {
   "cell_type": "markdown",
   "id": "0f6831bf-ad94-48ff-85ab-e5af2915642e",
   "metadata": {},
   "source": [
    "## 🔍 EDA – Exploratory Data Analysis"
   ]
  },
  {
   "cell_type": "markdown",
   "id": "b56164bf-0efe-4bd9-ad66-8993462a085b",
   "metadata": {},
   "source": [
    "### ✔️ Check data info"
   ]
  },
  {
   "cell_type": "code",
   "execution_count": 4,
   "id": "5df9a677-de2b-441b-ad92-3cb75864de09",
   "metadata": {},
   "outputs": [
    {
     "name": "stdout",
     "output_type": "stream",
     "text": [
      "<class 'pandas.core.frame.DataFrame'>\n",
      "RangeIndex: 200 entries, 0 to 199\n",
      "Data columns (total 5 columns):\n",
      " #   Column                  Non-Null Count  Dtype \n",
      "---  ------                  --------------  ----- \n",
      " 0   CustomerID              200 non-null    int64 \n",
      " 1   Gender                  200 non-null    object\n",
      " 2   Age                     200 non-null    int64 \n",
      " 3   Annual Income (k$)      200 non-null    int64 \n",
      " 4   Spending Score (1-100)  200 non-null    int64 \n",
      "dtypes: int64(4), object(1)\n",
      "memory usage: 7.9+ KB\n"
     ]
    }
   ],
   "source": [
    "df.info()"
   ]
  },
  {
   "cell_type": "markdown",
   "id": "3149f78e-070f-4599-88bf-e454e70e597d",
   "metadata": {},
   "source": [
    "### ❓ Check for missing values"
   ]
  },
  {
   "cell_type": "code",
   "execution_count": 5,
   "id": "70ed17d0-7b16-48be-bc52-180a7edfc14e",
   "metadata": {},
   "outputs": [
    {
     "data": {
      "text/plain": [
       "CustomerID                0\n",
       "Gender                    0\n",
       "Age                       0\n",
       "Annual Income (k$)        0\n",
       "Spending Score (1-100)    0\n",
       "dtype: int64"
      ]
     },
     "execution_count": 5,
     "metadata": {},
     "output_type": "execute_result"
    }
   ],
   "source": [
    "df.isnull().sum()"
   ]
  },
  {
   "cell_type": "markdown",
   "id": "0e245f8c-04f7-4157-87e2-06db4130533e",
   "metadata": {},
   "source": [
    "### 📈 Summary statistics"
   ]
  },
  {
   "cell_type": "code",
   "execution_count": 6,
   "id": "ccb03825-250d-4776-bd3a-875779e34fe1",
   "metadata": {},
   "outputs": [
    {
     "data": {
      "text/html": [
       "<div>\n",
       "<style scoped>\n",
       "    .dataframe tbody tr th:only-of-type {\n",
       "        vertical-align: middle;\n",
       "    }\n",
       "\n",
       "    .dataframe tbody tr th {\n",
       "        vertical-align: top;\n",
       "    }\n",
       "\n",
       "    .dataframe thead th {\n",
       "        text-align: right;\n",
       "    }\n",
       "</style>\n",
       "<table border=\"1\" class=\"dataframe\">\n",
       "  <thead>\n",
       "    <tr style=\"text-align: right;\">\n",
       "      <th></th>\n",
       "      <th>CustomerID</th>\n",
       "      <th>Age</th>\n",
       "      <th>Annual Income (k$)</th>\n",
       "      <th>Spending Score (1-100)</th>\n",
       "    </tr>\n",
       "  </thead>\n",
       "  <tbody>\n",
       "    <tr>\n",
       "      <th>count</th>\n",
       "      <td>200.000000</td>\n",
       "      <td>200.000000</td>\n",
       "      <td>200.000000</td>\n",
       "      <td>200.000000</td>\n",
       "    </tr>\n",
       "    <tr>\n",
       "      <th>mean</th>\n",
       "      <td>100.500000</td>\n",
       "      <td>38.850000</td>\n",
       "      <td>60.560000</td>\n",
       "      <td>50.200000</td>\n",
       "    </tr>\n",
       "    <tr>\n",
       "      <th>std</th>\n",
       "      <td>57.879185</td>\n",
       "      <td>13.969007</td>\n",
       "      <td>26.264721</td>\n",
       "      <td>25.823522</td>\n",
       "    </tr>\n",
       "    <tr>\n",
       "      <th>min</th>\n",
       "      <td>1.000000</td>\n",
       "      <td>18.000000</td>\n",
       "      <td>15.000000</td>\n",
       "      <td>1.000000</td>\n",
       "    </tr>\n",
       "    <tr>\n",
       "      <th>25%</th>\n",
       "      <td>50.750000</td>\n",
       "      <td>28.750000</td>\n",
       "      <td>41.500000</td>\n",
       "      <td>34.750000</td>\n",
       "    </tr>\n",
       "    <tr>\n",
       "      <th>50%</th>\n",
       "      <td>100.500000</td>\n",
       "      <td>36.000000</td>\n",
       "      <td>61.500000</td>\n",
       "      <td>50.000000</td>\n",
       "    </tr>\n",
       "    <tr>\n",
       "      <th>75%</th>\n",
       "      <td>150.250000</td>\n",
       "      <td>49.000000</td>\n",
       "      <td>78.000000</td>\n",
       "      <td>73.000000</td>\n",
       "    </tr>\n",
       "    <tr>\n",
       "      <th>max</th>\n",
       "      <td>200.000000</td>\n",
       "      <td>70.000000</td>\n",
       "      <td>137.000000</td>\n",
       "      <td>99.000000</td>\n",
       "    </tr>\n",
       "  </tbody>\n",
       "</table>\n",
       "</div>"
      ],
      "text/plain": [
       "       CustomerID         Age  Annual Income (k$)  Spending Score (1-100)\n",
       "count  200.000000  200.000000          200.000000              200.000000\n",
       "mean   100.500000   38.850000           60.560000               50.200000\n",
       "std     57.879185   13.969007           26.264721               25.823522\n",
       "min      1.000000   18.000000           15.000000                1.000000\n",
       "25%     50.750000   28.750000           41.500000               34.750000\n",
       "50%    100.500000   36.000000           61.500000               50.000000\n",
       "75%    150.250000   49.000000           78.000000               73.000000\n",
       "max    200.000000   70.000000          137.000000               99.000000"
      ]
     },
     "execution_count": 6,
     "metadata": {},
     "output_type": "execute_result"
    }
   ],
   "source": [
    "df.describe()"
   ]
  },
  {
   "cell_type": "markdown",
   "id": "c534f1db-c3a8-4f1f-832f-ff8c40686bc8",
   "metadata": {},
   "source": [
    "## 👁️ Visualize the Data"
   ]
  },
  {
   "cell_type": "code",
   "execution_count": 7,
   "id": "1e06161d-dd2f-474d-b48b-6f81f9e234b3",
   "metadata": {},
   "outputs": [],
   "source": [
    "import matplotlib.pyplot as plt\n",
    "import seaborn as sns "
   ]
  },
  {
   "cell_type": "markdown",
   "id": "18a11016-e675-4b3a-90e5-a28ea2168b29",
   "metadata": {},
   "source": [
    "### 📊 Age distribution"
   ]
  },
  {
   "cell_type": "code",
   "execution_count": 8,
   "id": "d18f5d66-29bb-455e-852c-6075ee60738b",
   "metadata": {},
   "outputs": [
    {
     "data": {
      "text/plain": [
       "<Axes: xlabel='Age', ylabel='Count'>"
      ]
     },
     "execution_count": 8,
     "metadata": {},
     "output_type": "execute_result"
    },
    {
     "data": {
      "image/png": "[encoded data removed]",
      "text/plain": [
       "<Figure size 640x480 with 1 Axes>"
      ]
     },
     "metadata": {},
     "output_type": "display_data"
    }
   ],
   "source": [
    "sns.histplot(df['Age'], kde=True)"
   ]
  },
  {
   "cell_type": "markdown",
   "id": "1ea41538-ecd6-46f4-954e-ca53054204c8",
   "metadata": {},
   "source": [
    "### 🤜🤛 Spending Vs Income"
   ]
  },
  {
   "cell_type": "code",
   "execution_count": 9,
   "id": "7860c25a-384d-4183-bb0b-ce1a8461a014",
   "metadata": {},
   "outputs": [
    {
     "data": {
      "text/plain": [
       "<Axes: xlabel='Annual Income (k$)', ylabel='Spending Score (1-100)'>"
      ]
     },
     "execution_count": 9,
     "metadata": {},
     "output_type": "execute_result"
    },
    {
     "data": {
      "image/png": "[encoded data removed]",
      "text/plain": [
       "<Figure size 640x480 with 1 Axes>"
      ]
     },
     "metadata": {},
     "output_type": "display_data"
    }
   ],
   "source": [
    "sns.scatterplot(data=df, x='Annual Income (k$)', y='Spending Score (1-100)')"
   ]
  },
  {
   "cell_type": "markdown",
   "id": "3ce45f18-a238-4d52-bf3b-4d6f1ddd0250",
   "metadata": {},
   "source": [
    "## 🧩 Select Features for Clustering"
   ]
  },
  {
   "cell_type": "code",
   "execution_count": 10,
   "id": "a3e25bb1-51b3-4e50-943b-3060c770dcc6",
   "metadata": {},
   "outputs": [],
   "source": [
    "# For Clustering We'll use:\n",
    "# 1. Age\n",
    "# 2. Annual Income (k$)\n",
    "# 3. Spending Score (1-100)"
   ]
  },
  {
   "cell_type": "code",
   "execution_count": 11,
   "id": "b4dea27e-57e5-404f-bbaf-74c1dd2103e2",
   "metadata": {},
   "outputs": [],
   "source": [
    "X = df[['Age', 'Annual Income (k$)', 'Spending Score (1-100)']]"
   ]
  },
  {
   "cell_type": "markdown",
   "id": "f83c2068-d4a5-40f5-86b5-60134bf0eff7",
   "metadata": {},
   "source": [
    "## ➡️ Normalize the Data (Scaling)"
   ]
  },
  {
   "cell_type": "code",
   "execution_count": 12,
   "id": "c9f77f97-65ce-47a7-8b33-16b596e83cec",
   "metadata": {},
   "outputs": [
    {
     "ename": "ModuleNotFoundError",
     "evalue": "No module named 'StandardScaler'",
     "output_type": "error",
     "traceback": [
      "\u001b[31m---------------------------------------------------------------------------\u001b[39m",
      "\u001b[31mModuleNotFoundError\u001b[39m                       Traceback (most recent call last)",
      "\u001b[36mCell\u001b[39m\u001b[36m \u001b[39m\u001b[32mIn[12]\u001b[39m\u001b[32m, line 1\u001b[39m\n\u001b[32m----> \u001b[39m\u001b[32m1\u001b[39m \u001b[38;5;28;01mimport\u001b[39;00m\u001b[38;5;250m \u001b[39m\u001b[34;01mStandardScaler\u001b[39;00m\n",
      "\u001b[31mModuleNotFoundError\u001b[39m: No module named 'StandardScaler'"
     ]
    }
   ],
   "source": [
    "import StandardScaler"
   ]
  },
  {
   "cell_type": "code",
   "execution_count": null,
   "id": "c894b05a-f70a-4683-9bdb-79ef09284f2d",
   "metadata": {
    "scrolled": true
   },
   "outputs": [],
   "source": [
    "!pip install scikit-learn"
   ]
  },
  {
   "cell_type": "code",
   "execution_count": null,
   "id": "04e5e73a-96b9-445d-8cf7-b811c32efcac",
   "metadata": {},
   "outputs": [],
   "source": [
    "from sklearn.preprocessing import StandardScaler\n",
    "\n",
    "scaler = StandardScaler()\n",
    "X_Scaled = scaler.fit_transform(X)"
   ]
  },
  {
   "cell_type": "markdown",
   "id": "0ffba623-ebe2-4284-af37-6d6acfda6ed6",
   "metadata": {},
   "source": [
    "## 🔗 Apply KMeans Clustering"
   ]
  },
  {
   "cell_type": "code",
   "execution_count": null,
   "id": "e606adbc-799a-402e-ad45-a7dcb405d16c",
   "metadata": {},
   "outputs": [],
   "source": [
    "from sklearn.cluster import KMeans \n",
    "\n",
    "# Create KMeans model\n",
    "kmeans = KMeans(n_clusters=5, random_state=42)\n",
    "kmeans.fit(X_Scaled)\n",
    "\n",
    "# Add the cluster labels to the original dataframe\n",
    "df['Cluster'] = kmeans.labels_"
   ]
  },
  {
   "cell_type": "code",
   "execution_count": null,
   "id": "9e802e3f-70a4-489c-bde8-b9f78e5fe86d",
   "metadata": {},
   "outputs": [],
   "source": [
    "# Assuming you have your scaled data and KMeans model like this:\n",
    "kmeans = KMeans(n_clusters=4, random_state=42)\n",
    "df['Cluster'] = kmeans.fit_predict(X_Scaled)\n"
   ]
  },
  {
   "cell_type": "code",
   "execution_count": null,
   "id": "d93b37ec-119e-4e48-a857-028513422703",
   "metadata": {},
   "outputs": [],
   "source": [
    "from sklearn.cluster import KMeans\n",
    "\n",
    "# 1. Fit KMeans on scaled data and get cluster assignments\n",
    "kmeans = KMeans(n_clusters=4, random_state=42)\n",
    "df['Cluster'] = kmeans.fit_predict(X_Scaled)  # <-- Step 2: assign clusters here\n",
    "\n",
    "# 2. Now you can analyze the clusters\n",
    "print(df.groupby('Cluster').mean(numeric_only=True))\n",
    "print(df['Cluster'].value_counts())\n",
    "\n",
    "# 3. Optionally, map cluster numbers to descriptive names\n",
    "cluster_labels = {\n",
    "    0: 'VIP Customers',\n",
    "    1: 'Budget Group',\n",
    "    2: 'Growth Opportunity',\n",
    "    3: 'Luxury Cautious'\n",
    "}\n",
    "df['Cluster Label'] = df['Cluster'].map(cluster_labels)\n",
    "\n"
   ]
  },
  {
   "cell_type": "markdown",
   "id": "d34cae0d-742b-4b3d-ba71-66dc4f7b34d2",
   "metadata": {},
   "source": [
    "## 📂 Visualize the Clusters"
   ]
  },
  {
   "cell_type": "code",
   "execution_count": null,
   "id": "7e88b4c1-4508-49ed-b46c-098c8d4ed927",
   "metadata": {},
   "outputs": [],
   "source": [
    "# Plot clusters by income and spending\n",
    "sns.scatterplot(data=df, x='Annual Income (k$)', y='Spending Score (1-100)', hue='Cluster', palette='Set1')"
   ]
  },
  {
   "cell_type": "markdown",
   "id": "d95bb5dc-f189-4ca1-af5c-fcdfe2f52fa8",
   "metadata": {},
   "source": [
    "## 🧮 Interpret the Segments"
   ]
  },
  {
   "cell_type": "markdown",
   "id": "d4b4e348-188b-4e4c-9d34-08cb59808f7d",
   "metadata": {},
   "source": [
    "### 1. Group the data by clusters"
   ]
  },
  {
   "cell_type": "code",
   "execution_count": null,
   "id": "21f9b477-f3be-4bd3-852e-da6e7a3e81a5",
   "metadata": {},
   "outputs": [],
   "source": [
    "df.groupby('Cluster').mean(numeric_only = True)\n",
    "\n",
    "#This gives you the average Age, Income, and Spending Score for each cluster."
   ]
  },
  {
   "cell_type": "markdown",
   "id": "8406f762-b382-44b4-a04b-76d59dfa0d45",
   "metadata": {},
   "source": [
    "### 2. See how many customers are in each cluster"
   ]
  },
  {
   "cell_type": "code",
   "execution_count": null,
   "id": "5954d7eb-b825-434d-bb04-e88160325959",
   "metadata": {},
   "outputs": [],
   "source": [
    "df['Cluster'].value_counts()\n",
    "\n",
    "# This tells you if any group is much larger or smaller than others."
   ]
  },
  {
   "cell_type": "markdown",
   "id": "704de50c-dd08-43f0-8a91-c747eb2cada0",
   "metadata": {},
   "source": [
    "### 3. Visualize Clusters -- in immaculate way!!"
   ]
  },
  {
   "cell_type": "code",
   "execution_count": null,
   "id": "508ed263-1d5b-4e90-a7c0-28de16a7f438",
   "metadata": {},
   "outputs": [],
   "source": [
    "import seaborn as sns\n",
    "import matplotlib.pyplot as plt"
   ]
  },
  {
   "cell_type": "code",
   "execution_count": null,
   "id": "2b8b960b-3119-4c00-a4d1-d1fed4aa823a",
   "metadata": {},
   "outputs": [],
   "source": [
    "plt.figure(figsize =(8,6))\n",
    "sns.scatterplot(data=df, x='Annual Income (k$)', y='Spending Score (1-100)', hue='Cluster', palette='Set2')\n",
    "plt.title('Customer Segment by Income and Spending')\n",
    "plt.show()\n",
    "\n",
    "# This helps you see the shape of your clusters visually."
   ]
  },
  {
   "cell_type": "markdown",
   "id": "2957ee2e-bab8-4d4d-878d-75746637a862",
   "metadata": {},
   "source": [
    "### 4. Create a cluster profile table"
   ]
  },
  {
   "cell_type": "code",
   "execution_count": null,
   "id": "7f90fc19-9ebd-4a75-b9c1-28e56f32d52c",
   "metadata": {},
   "outputs": [],
   "source": [
    "cluster_profiles = df.groupby('Cluster').agg({\n",
    "    'Age': ['mean', 'min', 'max'],\n",
    "    'Annual Income (k$)': ['mean', 'min', 'max'],\n",
    "    'Spending Score (1-100)': ['mean','min', 'max'],\n",
    "    'CustomerID': 'count'\n",
    "}).round(2)\n",
    "cluster_profiles\n",
    "\n",
    "# This shows:\n",
    "# Age range\n",
    "# Income range\n",
    "# Spending patterns\n",
    "# Number of customers in each cluster"
   ]
  },
  {
   "cell_type": "markdown",
   "id": "1cef5312-cae4-48d5-8202-972ceacbb457",
   "metadata": {},
   "source": [
    "## ✨ Naming the Segments: Adding Business Context to Clusters 📊"
   ]
  },
  {
   "cell_type": "code",
   "execution_count": null,
   "id": "b6f02466-feeb-42b4-8ef8-4d2a3be0d03a",
   "metadata": {},
   "outputs": [],
   "source": [
    "# Example: Rename clusters for clarity\n",
    "cluster_labels = {\n",
    "    0: 'VIP Customers',\n",
    "    1: 'Budget Group',\n",
    "    2: 'Growth Opportunity',\n",
    "    3: 'Luxury Cautious'\n",
    "}\n",
    "df['Cluster Label'] = df['Cluster'].map(cluster_labels)\n"
   ]
  },
  {
   "cell_type": "markdown",
   "id": "c31918fb-49ce-4454-a7a1-2e24bb71bcab",
   "metadata": {},
   "source": [
    "## Save Processed Data with Cluster Labels 🗂️💾"
   ]
  },
  {
   "cell_type": "code",
   "execution_count": null,
   "id": "05e76abf-577c-4452-b0fa-1052fd955ce9",
   "metadata": {},
   "outputs": [],
   "source": [
    "# Map cluster numbers to descriptive labels\n",
    "cluster_labels = {\n",
    "    0: 'VIP Customers',\n",
    "    1: 'Budget Group',\n",
    "    2: 'Growth Opportunity',\n",
    "    3: 'Luxury Cautious'\n",
    "}\n",
    "df['Cluster Label'] = df['Cluster'].map(cluster_labels)\n",
    "\n",
    "# Save the final DataFrame to CSV for dashboard use\n",
    "df.to_csv('customer_segments.csv', index=False)\n"
   ]
  },
  {
   "cell_type": "markdown",
   "id": "97ce9426-adfa-4329-a618-b802bb98f80d",
   "metadata": {},
   "source": [
    "## 🌟 Mapping Customer Segments: Income Meets Spending 💰"
   ]
  },
  {
   "cell_type": "code",
   "execution_count": null,
   "id": "be90d8de-dc48-4c69-ad6c-0622a7368e77",
   "metadata": {},
   "outputs": [],
   "source": [
    "import seaborn as sns\n",
    "import matplotlib.pyplot as plt\n",
    "\n",
    "plt.figure(figsize=(8, 6))\n",
    "sns.scatterplot(data=df, x='Annual Income (k$)', y='Spending Score (1-100)', \n",
    "                hue='Cluster Label', palette='Set2', s=100, alpha=0.7)\n",
    "plt.title('Customer Segments by Income and Spending Score')\n",
    "plt.legend(title='Customer Segment')\n",
    "plt.show()\n"
   ]
  },
  {
   "cell_type": "markdown",
   "id": "28e7d5d4-dd86-4a8c-9129-a95bafa2babd",
   "metadata": {},
   "source": [
    "## 📋 Comprehensive Cluster Profiles: Summary Statistics at a Glance"
   ]
  },
  {
   "cell_type": "code",
   "execution_count": null,
   "id": "ffa19739-2f6b-443d-9793-43faa41d8f0c",
   "metadata": {},
   "outputs": [],
   "source": [
    "cluster_profiles = df.groupby('Cluster Label').agg({\n",
    "    'Age': ['mean', 'min', 'max'],\n",
    "    'Annual Income (k$)': ['mean', 'min', 'max'],\n",
    "    'Spending Score (1-100)': ['mean', 'min', 'max'],\n",
    "    'CustomerID': 'count'\n",
    "}).round(2)\n",
    "\n",
    "print(cluster_profiles)\n"
   ]
  },
  {
   "cell_type": "markdown",
   "id": "9cd21fc8-626f-4634-988c-4b21165adba4",
   "metadata": {},
   "source": [
    "## 🧠 Cluster Insights Summary"
   ]
  },
  {
   "cell_type": "markdown",
   "id": "c65ef1a8-ebcb-47e9-98cf-7cff4d3b80b4",
   "metadata": {},
   "source": [
    "### Cluster 0: Budget Conscious\n",
    "##### Older customers (~ 54 yrs), moderate income (~$48k), low spenders. Focus on discounts and value deals.\n",
    "\n",
    "### Cluster 1: Premium Customers\n",
    "##### Younger adults (~ 33 yrs), high income (~$86k), high spenders. Target with premium offers and loyalty rewards.\n",
    "\n",
    "### Cluster 2: Young Casual Shoppers\n",
    "##### Young (~ 25 yrs), low income (~$40k), moderate spenders. Engage with trendy, affordable products and social media campaigns.\n",
    "\n",
    "### Cluster 3: Cautious High-Income\n",
    "##### Middle-aged (~ 39 yrs), high income (~$86.5k), low spenders. Build trust, offer incentives to encourage purchases."
   ]
  },
  {
   "cell_type": "markdown",
   "id": "a9cc78f6-e226-4aaa-b7e7-81edba93f538",
   "metadata": {},
   "source": [
    "## 🎯 Marketing Recommendations"
   ]
  },
  {
   "cell_type": "markdown",
   "id": "8a6f69db-3d26-470b-93bc-71a8b15e3915",
   "metadata": {},
   "source": [
    "| **Cluster**                  | **Profile Summary**                        | **Marketing Recommendations**                                         |\n",
    "|------------------------------|--------------------------------------------|----------------------------------------------------------------------|\n",
    "| **Cluster 0: Budget Conscious**  | Older, moderate income, low spenders          | - Discounts, bundles, seasonal sales<br>- Emphasize value-for-money<br>- Email & SMS exclusive offers |\n",
    "| **Cluster 1: Premium Customers** | Younger, high income, high spenders           | - VIP memberships & loyalty programs<br>- Personalized premium marketing<br>- Exclusive events/invitations |\n",
    "| **Cluster 2: Young Casual Shoppers** | Young, low income, moderate spenders          | - Social media & influencer campaigns<br>- Trendy, affordable items<br>- Mobile ads & gamified offers |\n",
    "| **Cluster 3: Cautious High-Income** | Middle-aged, high income, low spenders         | - Build trust with great service<br>- Trial/demo offers<br>- Cashback & flexible payment plans |\n"
   ]
  },
  {
   "cell_type": "code",
   "execution_count": null,
   "id": "fa78dcb0-d189-4432-80b1-b4f16360ee5e",
   "metadata": {},
   "outputs": [],
   "source": []
  }
 ],
 "metadata": {
  "kernelspec": {
   "display_name": "Python 3 (ipykernel)",
   "language": "python",
   "name": "python3"
  },
  "language_info": {
   "codemirror_mode": {
    "name": "ipython",
    "version": 3
   },
   "file_extension": ".py",
   "mimetype": "text/x-python",
   "name": "python",
   "nbconvert_exporter": "python",
   "pygments_lexer": "ipython3",
   "version": "3.13.2"
  }
 },
 "nbformat": 4,
 "nbformat_minor": 5
}
